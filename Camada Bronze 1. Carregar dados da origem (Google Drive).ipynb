{
 "cells": [
  {
   "cell_type": "markdown",
   "metadata": {
    "application/vnd.databricks.v1+cell": {
     "cellMetadata": {},
     "inputWidgets": {},
     "nuid": "e5aa6215-7959-4fe2-8ae4-d64a09326c26",
     "showTitle": false,
     "tableResultSettingsMap": {},
     "title": ""
    }
   },
   "source": [
    "# **Camada Bronze (Raw Layer)**\n",
    "\n",
    "Dados brutos ou originais, ingeridos diretamente das fontes.\n",
    "\n",
    "Pode conter dados estruturados, semiestruturados ou não estruturados.\n",
    "\n",
    "Dados geralmente sem limpeza, transformações ou filtros.\n",
    "\n",
    "Objetivo: armazenar o \"snapshot\" original para rastreabilidade e reprocessamento."
   ]
  },
  {
   "cell_type": "code",
   "execution_count": 0,
   "metadata": {
    "application/vnd.databricks.v1+cell": {
     "cellMetadata": {
      "byteLimit": 2048000,
      "implicitDf": true,
      "rowLimit": 10000
     },
     "inputWidgets": {},
     "nuid": "e6dc9d43-bf8d-4858-9ca5-cf576eba7cef",
     "showTitle": false,
     "tableResultSettingsMap": {},
     "title": ""
    }
   },
   "outputs": [],
   "source": [
    "%sql\n",
    "SELECT current_catalog();"
   ]
  },
  {
   "cell_type": "code",
   "execution_count": 0,
   "metadata": {
    "application/vnd.databricks.v1+cell": {
     "cellMetadata": {
      "byteLimit": 2048000,
      "rowLimit": 10000
     },
     "inputWidgets": {},
     "nuid": "e2f2f3f4-d839-4c21-b7d2-10b74a99690b",
     "showTitle": false,
     "tableResultSettingsMap": {},
     "title": ""
    }
   },
   "outputs": [],
   "source": [
    "spark.sql(\"USE CATALOG pipe1\")"
   ]
  },
  {
   "cell_type": "markdown",
   "metadata": {
    "application/vnd.databricks.v1+cell": {
     "cellMetadata": {},
     "inputWidgets": {},
     "nuid": "71162a64-9f3c-4b95-8b21-7cfa5372a7cf",
     "showTitle": false,
     "tableResultSettingsMap": {},
     "title": ""
    }
   },
   "source": [
    "# Leitura dos dados brutos do schema google_drive"
   ]
  },
  {
   "cell_type": "code",
   "execution_count": 0,
   "metadata": {
    "application/vnd.databricks.v1+cell": {
     "cellMetadata": {
      "byteLimit": 2048000,
      "rowLimit": 10000
     },
     "inputWidgets": {},
     "nuid": "ddfabdcf-9de9-46dd-8c45-1c5d08e459b1",
     "showTitle": false,
     "tableResultSettingsMap": {},
     "title": ""
    }
   },
   "outputs": [],
   "source": [
    "df_lcb = spark.table(\"workspace.google_drive.dados_despesas_home_despesa_lcb_contemporaneo\")\n",
    "display(df_lcb)"
   ]
  },
  {
   "cell_type": "code",
   "execution_count": 0,
   "metadata": {
    "application/vnd.databricks.v1+cell": {
     "cellMetadata": {
      "byteLimit": 2048000,
      "rowLimit": 10000
     },
     "inputWidgets": {},
     "nuid": "dbb59f34-a755-4069-8ae3-9531e8995280",
     "showTitle": false,
     "tableResultSettingsMap": {},
     "title": ""
    }
   },
   "outputs": [],
   "source": [
    "df_timbauvas = spark.table(\"workspace.google_drive.dados_despesas_home_despesa_timbauvas\")\n",
    "display(df_timbauvas)"
   ]
  },
  {
   "cell_type": "code",
   "execution_count": 0,
   "metadata": {
    "application/vnd.databricks.v1+cell": {
     "cellMetadata": {
      "byteLimit": 2048000,
      "rowLimit": 10000
     },
     "inputWidgets": {},
     "nuid": "dde4baaa-ff69-4395-b577-4729de07aa21",
     "showTitle": false,
     "tableResultSettingsMap": {},
     "title": ""
    }
   },
   "outputs": [],
   "source": [
    "# Leitura dos dados brutos do schema google_drive\n",
    "df_lcb = spark.table(\"workspace.google_drive.dados_despesas_home_despesa_lcb_contemporaneo\")\n",
    "df_timbauvas = spark.table(\"workspace.google_drive.dados_despesas_home_despesa_timbauvas\")\n",
    "\n"
   ]
  },
  {
   "cell_type": "markdown",
   "metadata": {
    "application/vnd.databricks.v1+cell": {
     "cellMetadata": {},
     "inputWidgets": {},
     "nuid": "84f10b88-3829-4d99-89a4-2d54b25bf940",
     "showTitle": false,
     "tableResultSettingsMap": {},
     "title": ""
    }
   },
   "source": [
    "# Salvar os dados brutos na camada Bronze no formato Delta"
   ]
  },
  {
   "cell_type": "markdown",
   "metadata": {
    "application/vnd.databricks.v1+cell": {
     "cellMetadata": {},
     "inputWidgets": {},
     "nuid": "173d47be-3cfa-49c6-a039-1dc42e727bfa",
     "showTitle": false,
     "tableResultSettingsMap": {},
     "title": ""
    }
   },
   "source": [
    "📦 Por que usar Parquet?\n",
    "O Parquet é um formato de arquivo colunar otimizado para processamento distribuído (como o Spark). Veja os principais benefícios:\n",
    "\n",
    "✅ Vantagens do Parquet:\n",
    "Compactação eficiente\n",
    "\n",
    "Ocupa menos espaço em disco do que CSV/Excel/JSON.\n",
    "\n",
    "Reduz o custo de armazenamento em nuvens como S3 ou ADLS.\n",
    "\n",
    "Formato colunar\n",
    "\n",
    "Permite leitura apenas das colunas necessárias em consultas.\n",
    "\n",
    "Muito mais rápido em análises com filtros (como SELECT coluna WHERE).\n",
    "\n",
    "Compatível com Delta Lake\n",
    "\n",
    "O Delta Lake usa arquivos Parquet internamente.\n",
    "\n",
    "Quando você escreve .format(\"delta\"), ele salva os dados como Parquet + logs _delta_log.\n",
    "\n",
    "Suporte a esquema\n",
    "\n",
    "Parquet mantém o esquema (nomes e tipos de colunas).\n",
    "\n",
    "Facilita validações e integração com outras ferramentas (como Metabase, Power BI, etc.).\n",
    "\n",
    "⚙️ Como converter para Parquet?\n",
    "Se você leu um Excel com Spark (como no exemplo anterior):\n",
    "\n",
    "python\n",
    "Copiar\n",
    "Editar\n",
    "df_bronze.write.format(\"parquet\").mode(\"overwrite\").save(\"/mnt/datalake/bronze/dados.parquet\")\n",
    "Ou salvar direto como tabela Delta (que já usa Parquet por baixo):\n",
    "\n",
    "python\n",
    "Copiar\n",
    "Editar\n",
    "df_bronze.write.format(\"delta\").mode(\"overwrite\").saveAsTable(\"pipe1.bronze.despesas\")"
   ]
  },
  {
   "cell_type": "code",
   "execution_count": 0,
   "metadata": {
    "application/vnd.databricks.v1+cell": {
     "cellMetadata": {
      "byteLimit": 2048000,
      "rowLimit": 10000
     },
     "inputWidgets": {},
     "nuid": "400b1a53-e33d-47cc-8e61-f639d157ae8e",
     "showTitle": false,
     "tableResultSettingsMap": {},
     "title": ""
    }
   },
   "outputs": [],
   "source": [
    "# \n",
    "df_lcb.write.format(\"delta\").mode(\"overwrite\").saveAsTable(\"pipe1.bronze.brz_despesas_lcb_contemporaneo\")\n",
    "df_timbauvas.write.format(\"delta\").mode(\"overwrite\").saveAsTable(\"pipe1.bronze.brz_despesas_timbauvas\")"
   ]
  },
  {
   "cell_type": "code",
   "execution_count": 0,
   "metadata": {
    "application/vnd.databricks.v1+cell": {
     "cellMetadata": {
      "byteLimit": 2048000,
      "rowLimit": 10000
     },
     "inputWidgets": {},
     "nuid": "05893664-e1d5-4fdf-bd6d-b621f68d7a3e",
     "showTitle": false,
     "tableResultSettingsMap": {},
     "title": ""
    }
   },
   "outputs": [],
   "source": [
    "# dropar a tabela\n",
    "#spark.sql(\"DROP TABLE IF EXISTS pipe1.bronze.brz_despesas_lcb_contemporaneo\")\n",
    "#spark.sql(\"DROP TABLE IF EXISTS pipe1.bronze.brz_despesas_timbauvas\")"
   ]
  }
 ],
 "metadata": {
  "application/vnd.databricks.v1+notebook": {
   "computePreferences": null,
   "dashboards": [],
   "environmentMetadata": {
    "base_environment": "",
    "environment_version": "2"
   },
   "inputWidgetPreferences": null,
   "language": "python",
   "notebookMetadata": {
    "mostRecentlyExecutedCommandWithImplicitDF": {
     "commandId": 5930585342559375,
     "dataframes": [
      "_sqldf"
     ]
    },
    "pythonIndentUnit": 4
   },
   "notebookName": "Camada Bronze 1. Carregar dados da origem (Google Drive)",
   "widgets": {}
  },
  "language_info": {
   "name": "python"
  }
 },
 "nbformat": 4,
 "nbformat_minor": 0
}
