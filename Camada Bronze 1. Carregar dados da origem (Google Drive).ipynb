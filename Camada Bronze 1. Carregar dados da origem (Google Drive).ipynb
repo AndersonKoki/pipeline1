{
 "cells": [
  {
   "cell_type": "markdown",
   "metadata": {
    "application/vnd.databricks.v1+cell": {
     "cellMetadata": {},
     "inputWidgets": {},
     "nuid": "e5aa6215-7959-4fe2-8ae4-d64a09326c26",
     "showTitle": false,
     "tableResultSettingsMap": {},
     "title": ""
    }
   },
   "source": [
    "# **Camada Bronze (Raw Layer)**\n",
    "\n",
    "Dados brutos ou originais, ingeridos diretamente das fontes.\n",
    "\n",
    "Pode conter dados estruturados, semiestruturados ou não estruturados.\n",
    "\n",
    "Dados geralmente sem limpeza, transformações ou filtros.\n",
    "\n",
    "Objetivo: armazenar o \"snapshot\" original para rastreabilidade e reprocessamento."
   ]
  },
  {
   "cell_type": "code",
   "execution_count": 0,
   "metadata": {
    "application/vnd.databricks.v1+cell": {
     "cellMetadata": {
      "byteLimit": 2048000,
      "implicitDf": true,
      "rowLimit": 10000
     },
     "inputWidgets": {},
     "nuid": "e6dc9d43-bf8d-4858-9ca5-cf576eba7cef",
     "showTitle": false,
     "tableResultSettingsMap": {},
     "title": ""
    }
   },
   "outputs": [],
   "source": [
    "%sql\n",
    "SELECT current_catalog();"
   ]
  },
  {
   "cell_type": "code",
   "execution_count": 0,
   "metadata": {
    "application/vnd.databricks.v1+cell": {
     "cellMetadata": {
      "byteLimit": 2048000,
      "rowLimit": 10000
     },
     "inputWidgets": {},
     "nuid": "e2f2f3f4-d839-4c21-b7d2-10b74a99690b",
     "showTitle": false,
     "tableResultSettingsMap": {},
     "title": ""
    }
   },
   "outputs": [],
   "source": [
    "spark.sql(\"USE CATALOG pipe1\")"
   ]
  },
  {
   "cell_type": "markdown",
   "metadata": {
    "application/vnd.databricks.v1+cell": {
     "cellMetadata": {},
     "inputWidgets": {},
     "nuid": "71162a64-9f3c-4b95-8b21-7cfa5372a7cf",
     "showTitle": false,
     "tableResultSettingsMap": {},
     "title": ""
    }
   },
   "source": [
    "# Leitura dos dados brutos do schema google_drive"
   ]
  },
  {
   "cell_type": "code",
   "execution_count": 0,
   "metadata": {
    "application/vnd.databricks.v1+cell": {
     "cellMetadata": {
      "byteLimit": 2048000,
      "rowLimit": 10000
     },
     "inputWidgets": {},
     "nuid": "dde4baaa-ff69-4395-b577-4729de07aa21",
     "showTitle": false,
     "tableResultSettingsMap": {},
     "title": ""
    }
   },
   "outputs": [],
   "source": [
    "# Leitura dos dados brutos do schema google_drive\n",
    "df_lcb = spark.table(\"workspace.google_drive.dados_despesas_home_despesa_lcb_contemporaneo\")\n",
    "df_timbauvas = spark.table(\"workspace.google_drive.dados_despesas_home_despesa_lcb_contemporaneo\")\n",
    "\n"
   ]
  },
  {
   "cell_type": "markdown",
   "metadata": {
    "application/vnd.databricks.v1+cell": {
     "cellMetadata": {},
     "inputWidgets": {},
     "nuid": "84f10b88-3829-4d99-89a4-2d54b25bf940",
     "showTitle": false,
     "tableResultSettingsMap": {},
     "title": ""
    }
   },
   "source": [
    "# Salvar os dados brutos na camada Bronze no formato Delta"
   ]
  },
  {
   "cell_type": "code",
   "execution_count": 0,
   "metadata": {
    "application/vnd.databricks.v1+cell": {
     "cellMetadata": {
      "byteLimit": 2048000,
      "rowLimit": 10000
     },
     "inputWidgets": {},
     "nuid": "400b1a53-e33d-47cc-8e61-f639d157ae8e",
     "showTitle": false,
     "tableResultSettingsMap": {},
     "title": ""
    }
   },
   "outputs": [],
   "source": [
    "df_lcb.write.format(\"delta\").mode(\"overwrite\").saveAsTable(\"pipe1.bronze.brz_despesas_lcb_contemporaneo\")\n",
    "df_timbauvas.write.format(\"delta\").mode(\"overwrite\").saveAsTable(\"pipe1.bronze.brz_despesas_timbauvas\")"
   ]
  },
  {
   "cell_type": "code",
   "execution_count": 0,
   "metadata": {
    "application/vnd.databricks.v1+cell": {
     "cellMetadata": {
      "byteLimit": 2048000,
      "rowLimit": 10000
     },
     "inputWidgets": {},
     "nuid": "05893664-e1d5-4fdf-bd6d-b621f68d7a3e",
     "showTitle": false,
     "tableResultSettingsMap": {},
     "title": ""
    }
   },
   "outputs": [],
   "source": [
    "# dropar a tabela\n",
    "# spark.sql(\"DROP TABLE IF EXISTS pipe1.bronze.despesas_lcb_contemporaneo\")\n",
    "# spark.sql(\"DROP TABLE IF EXISTS pipe1.bronze.despesas_timbauvas\")"
   ]
  }
 ],
 "metadata": {
  "application/vnd.databricks.v1+notebook": {
   "computePreferences": null,
   "dashboards": [],
   "environmentMetadata": {
    "base_environment": "",
    "environment_version": "2"
   },
   "inputWidgetPreferences": null,
   "language": "python",
   "notebookMetadata": {
    "mostRecentlyExecutedCommandWithImplicitDF": {
     "commandId": 5930585342559375,
     "dataframes": [
      "_sqldf"
     ]
    },
    "pythonIndentUnit": 4
   },
   "notebookName": "Camada Bronze 1. Carregar dados da origem (Google Drive)",
   "widgets": {}
  },
  "language_info": {
   "name": "python"
  }
 },
 "nbformat": 4,
 "nbformat_minor": 0
}
