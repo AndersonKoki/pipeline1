{
 "cells": [
  {
   "cell_type": "markdown",
   "metadata": {
    "application/vnd.databricks.v1+cell": {
     "cellMetadata": {},
     "inputWidgets": {},
     "nuid": "d11d10f5-d401-47b6-b669-269392e60710",
     "showTitle": false,
     "tableResultSettingsMap": {},
     "title": ""
    }
   },
   "source": [
    "# Camada Gold (Business / Aggregated Layer)\n",
    "\n",
    "Dados prontos para consumo, com agregações, sumarizações e cálculos.\n",
    "\n",
    "Normalmente estruturados para atender demandas específicas do negócio.\n",
    "\n",
    "Utilizado por dashboards, relatórios e aplicações finais."
   ]
  },
  {
   "cell_type": "code",
   "execution_count": 0,
   "metadata": {
    "application/vnd.databricks.v1+cell": {
     "cellMetadata": {
      "byteLimit": 2048000,
      "rowLimit": 10000
     },
     "inputWidgets": {},
     "nuid": "0fc0d520-3dac-43bc-9e65-b988abc5687f",
     "showTitle": false,
     "tableResultSettingsMap": {},
     "title": ""
    }
   },
   "outputs": [],
   "source": [
    "df_silver = spark.table(\"pipe1.silver.slv_despesas_timbauvas\")\n",
    "display(df_silver)"
   ]
  },
  {
   "cell_type": "code",
   "execution_count": 0,
   "metadata": {
    "application/vnd.databricks.v1+cell": {
     "cellMetadata": {
      "byteLimit": 2048000,
      "rowLimit": 10000
     },
     "inputWidgets": {},
     "nuid": "0168d3ef-1d81-48cb-a9b5-d30daa7404f3",
     "showTitle": false,
     "tableResultSettingsMap": {},
     "title": ""
    }
   },
   "outputs": [],
   "source": [
    "df_silver = spark.table(\"pipe1.silver.slv_despesas_lcb_contemporaneo\")\n",
    "display(df_silver)"
   ]
  },
  {
   "cell_type": "markdown",
   "metadata": {
    "application/vnd.databricks.v1+cell": {
     "cellMetadata": {},
     "inputWidgets": {},
     "nuid": "395dddd8-10f1-4606-b420-5ce8ffae3978",
     "showTitle": false,
     "tableResultSettingsMap": {},
     "title": ""
    }
   },
   "source": [
    "#Código PySpark para criar a tabela Gold agregando as duas fontes:"
   ]
  },
  {
   "cell_type": "code",
   "execution_count": 0,
   "metadata": {
    "application/vnd.databricks.v1+cell": {
     "cellMetadata": {
      "byteLimit": 2048000,
      "rowLimit": 10000
     },
     "inputWidgets": {},
     "nuid": "2c92759a-c9c6-41ff-9cbd-022ae53fb1e0",
     "showTitle": false,
     "tableResultSettingsMap": {},
     "title": ""
    }
   },
   "outputs": [],
   "source": [
    "from pyspark.sql.functions import lit\n",
    "\n",
    "# 1. Ler as tabelas Silver\n",
    "df_timbauvas = spark.table(\"pipe1.silver.slv_despesas_timbauvas\")\n",
    "df_lcb = spark.table(\"pipe1.silver.slv_despesas_lcb_contemporaneo\")\n",
    "\n",
    "# 2. Adicionar a coluna de origem\n",
    "df_timbauvas = df_timbauvas.withColumn(\"origem\", lit(\"Timbauvas\"))\n",
    "df_lcb = df_lcb.withColumn(\"origem\", lit(\"LCB\"))\n",
    "\n",
    "# 3. Criar views temporárias\n",
    "df_timbauvas.createOrReplaceTempView(\"vw_timbauvas\")\n",
    "df_lcb.createOrReplaceTempView(\"vw_lcb\")\n",
    "\n",
    "# 4. Fazer o UNION ALL com padronização\n",
    "query = \"\"\"\n",
    "SELECT \n",
    "    periodo,\n",
    "    ano,\n",
    "    mes,\n",
    "    origem,\n",
    "    despesa_total_condominio,\n",
    "    fundo_pintura,\n",
    "    leitura_medidor_gas,\n",
    "    fundo_reserva,\n",
    "    bandeira,\n",
    "    preco_kg_gas,\n",
    "    extras,\n",
    "    valor_gas,\n",
    "    internet_cond,\n",
    "    taxa_condominio,\n",
    "    despesa_de_luz,\n",
    "    consumo_kg,\n",
    "    agua_consumo,\n",
    "    valor_servico,\n",
    "    agua_area_comum,\n",
    "    consumo_gas_m_3,\n",
    "    valor_em_m_3,\n",
    "    consumo_de_agua_m_3,\n",
    "    kwh_dia,\n",
    "    agua_tarifa,\n",
    "    fator_conversao,\n",
    "    gas,\n",
    "    leitura_medidor_luz,\n",
    "    dias_consumo,\n",
    "    despesa_bancaria,\n",
    "    kwh,\n",
    "    dia_consumido,\n",
    "    total_agua,\n",
    "    _fivetran_synced\n",
    "FROM vw_lcb\n",
    "\n",
    "UNION ALL\n",
    "\n",
    "SELECT \n",
    "    periodo,\n",
    "    ano,\n",
    "    mes,\n",
    "    origem,\n",
    "    despesa_total_condominio,\n",
    "    NULL AS fundo_pintura,\n",
    "    NULL AS leitura_medidor_gas,\n",
    "    CAST(fundo_reserva AS DOUBLE) AS fundo_reserva,\n",
    "    bandeira,\n",
    "    NULL AS preco_kg_gas,\n",
    "    extras,\n",
    "    NULL AS valor_gas,\n",
    "    NULL AS internet_cond,\n",
    "    taxa_condominio,    \n",
    "    despesa_de_luz,\n",
    "    NULL AS consumo_kg,\n",
    "    agua_consumo,\n",
    "    NULL AS valor_servico,\n",
    "    NULL AS agua_area_comum,\n",
    "    NULL AS consumo_gas_m_3,\n",
    "    valor_em_m_3,\n",
    "    NULL AS consumo_de_agua_m_3,\n",
    "    kwh_dia,\n",
    "    agua_tarifa,\n",
    "    NULL AS fator_conversao,\n",
    "    CAST(gas AS DOUBLE) AS gas,\n",
    "    NULL AS leitura_medidor_luz,\n",
    "    NULL AS dias_consumo,\n",
    "    NULL AS despesa_bancaria,\n",
    "    kwh,\n",
    "    dia_consumido,\n",
    "    total_agua,\n",
    "    _fivetran_synced\n",
    "FROM vw_timbauvas\n",
    "\"\"\"\n",
    "\n",
    "# 5. Executar a query\n",
    "df_gold = spark.sql(query)\n",
    "\n",
    "# 6. Reordenar as colunas manualmente\n",
    "df_gold = df_gold.select(\n",
    "    \"periodo\",\n",
    "    \"ano\",\n",
    "    \"mes\",\n",
    "    \"origem\",\n",
    "    \"despesa_total_condominio\",\n",
    "    \"fundo_pintura\",\n",
    "    \"leitura_medidor_gas\",\n",
    "    \"fundo_reserva\",\n",
    "    \"bandeira\",\n",
    "    \"preco_kg_gas\",\n",
    "    \"extras\",\n",
    "    \"valor_gas\",\n",
    "    \"internet_cond\",\n",
    "    \"taxa_condominio\",\n",
    "    \"despesa_de_luz\",\n",
    "    \"consumo_kg\",\n",
    "    \"agua_consumo\",\n",
    "    \"valor_servico\",\n",
    "    \"agua_area_comum\",\n",
    "    \"consumo_gas_m_3\",\n",
    "    \"valor_em_m_3\",\n",
    "    \"consumo_de_agua_m_3\",\n",
    "    \"kwh_dia\",\n",
    "    \"agua_tarifa\",\n",
    "    \"fator_conversao\",\n",
    "    \"gas\",\n",
    "    \"leitura_medidor_luz\",\n",
    "    \"dias_consumo\",\n",
    "    \"despesa_bancaria\",\n",
    "    \"kwh\",\n",
    "    \"dia_consumido\",\n",
    "    \"total_agua\",\n",
    "    \"_fivetran_synced\"\n",
    ")\n",
    "\n",
    "# 7. Escrever particionado por ano e mês\n",
    "df_gold.write.format(\"delta\") \\\n",
    "    .mode(\"overwrite\") \\\n",
    "    .partitionBy(\"ano\", \"mes\") \\\n",
    "    .saveAsTable(\"pipe1.gold.gld_despesas_unificadas\")\n"
   ]
  },
  {
   "cell_type": "code",
   "execution_count": 0,
   "metadata": {
    "application/vnd.databricks.v1+cell": {
     "cellMetadata": {
      "byteLimit": 2048000,
      "rowLimit": 10000
     },
     "inputWidgets": {},
     "nuid": "0dafe192-10d5-4e41-abda-b01054dd7f08",
     "showTitle": false,
     "tableResultSettingsMap": {},
     "title": ""
    }
   },
   "outputs": [],
   "source": [
    "df_gold = spark.table(\"pipe1.gold.gld_despesas_unificadas\")\n",
    "display(df_gold)"
   ]
  },
  {
   "cell_type": "code",
   "execution_count": 0,
   "metadata": {
    "application/vnd.databricks.v1+cell": {
     "cellMetadata": {
      "byteLimit": 2048000,
      "rowLimit": 10000
     },
     "inputWidgets": {},
     "nuid": "eaea31b0-e5cb-4e1d-a5bd-55a412079934",
     "showTitle": false,
     "tableResultSettingsMap": {},
     "title": ""
    }
   },
   "outputs": [],
   "source": [
    "# dropar a tabela\n",
    "spark.sql(\"DROP TABLE IF EXISTS pipe1.gold.gld_despesas_condominio\")"
   ]
  }
 ],
 "metadata": {
  "application/vnd.databricks.v1+notebook": {
   "computePreferences": null,
   "dashboards": [],
   "environmentMetadata": {
    "base_environment": "",
    "environment_version": "2"
   },
   "inputWidgetPreferences": null,
   "language": "python",
   "notebookMetadata": {
    "mostRecentlyExecutedCommandWithImplicitDF": {
     "commandId": 6486304895884800,
     "dataframes": [
      "_sqldf"
     ]
    },
    "pythonIndentUnit": 4
   },
   "notebookName": "Camada Gold 3. Criar métricas e agregações",
   "widgets": {}
  },
  "language_info": {
   "name": "python"
  }
 },
 "nbformat": 4,
 "nbformat_minor": 0
}
