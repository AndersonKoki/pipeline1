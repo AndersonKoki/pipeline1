{
 "cells": [
  {
   "cell_type": "markdown",
   "metadata": {
    "application/vnd.databricks.v1+cell": {
     "cellMetadata": {
      "byteLimit": 2048000,
      "rowLimit": 10000
     },
     "inputWidgets": {},
     "nuid": "c804efcd-ab48-413b-a1ae-13d88a814eeb",
     "showTitle": false,
     "tableResultSettingsMap": {},
     "title": ""
    }
   },
   "source": [
    "# **Camada Silver (Cleaned / Refined Layer)**\n",
    "\n",
    "Dados já limpos, validados e com estruturação melhorada.\n",
    "\n",
    "Normalmente inclui tratamento de erros, remoção de duplicatas e padronização.\n",
    "\n",
    "Serve para análises intermediárias e alimentação de modelos."
   ]
  },
  {
   "cell_type": "code",
   "execution_count": 0,
   "metadata": {
    "application/vnd.databricks.v1+cell": {
     "cellMetadata": {
      "byteLimit": 2048000,
      "implicitDf": true,
      "rowLimit": 10000
     },
     "inputWidgets": {},
     "nuid": "a48bd786-46bc-4e70-b4f0-cd45d4ad30ca",
     "showTitle": false,
     "tableResultSettingsMap": {},
     "title": ""
    }
   },
   "outputs": [],
   "source": [
    "%sql\n",
    "SELECT current_catalog();"
   ]
  },
  {
   "cell_type": "code",
   "execution_count": 0,
   "metadata": {
    "application/vnd.databricks.v1+cell": {
     "cellMetadata": {
      "byteLimit": 2048000,
      "rowLimit": 10000
     },
     "inputWidgets": {},
     "nuid": "c3eb8d25-26c0-4035-b1cf-fa85f6b9bf57",
     "showTitle": false,
     "tableResultSettingsMap": {},
     "title": ""
    }
   },
   "outputs": [],
   "source": [
    "spark.sql(\"USE CATALOG pipe1\")"
   ]
  },
  {
   "cell_type": "markdown",
   "metadata": {
    "application/vnd.databricks.v1+cell": {
     "cellMetadata": {
      "byteLimit": 2048000,
      "rowLimit": 10000
     },
     "inputWidgets": {},
     "nuid": "151400cb-c790-4713-acff-32e1c6db409e",
     "showTitle": false,
     "tableResultSettingsMap": {},
     "title": ""
    }
   },
   "source": [
    "# Tratamento de dados da LCB"
   ]
  },
  {
   "cell_type": "markdown",
   "metadata": {
    "application/vnd.databricks.v1+cell": {
     "cellMetadata": {
      "byteLimit": 2048000,
      "rowLimit": 10000
     },
     "inputWidgets": {},
     "nuid": "73b09530-cf98-4663-a011-d4a24a7c293f",
     "showTitle": false,
     "tableResultSettingsMap": {},
     "title": ""
    }
   },
   "source": [
    "✅ O que é particionamento?\n",
    "Particionamento é a técnica de organizar fisicamente os dados em pastas separadas com base nos valores de uma ou mais colunas (ex: ano, mês, região etc).\n",
    "📂 Exemplo:\n",
    "Se você particionar uma tabela pela coluna ano, o Delta Lake vai salvar os dados assim:\n",
    "ano=2023/part-0001.parquet  \n",
    "ano=2024/part-0002.parquet  \n",
    "Se particionar por ano e mes:\n",
    "/ano=2024/mes=01/part-001.snappy.parquet  \n",
    "/ano=2024/mes=02/part-002.snappy.parquet  \n",
    "🚀 Por que o particionamento é importante no Delta Lake?\n",
    "O Delta Lake usa o particionamento para acelerar as consultas, pois ele:\n",
    "\n",
    "1. 🔍 Reduz o volume de dados lido\n",
    "Se você filtrar WHERE ano = 2024, o Spark lê só a pasta ano=2024, ignorando as demais.\n",
    "\n",
    "Isso acelera muito a leitura e economiza recursos de CPU/memória.\n",
    "\n",
    "2. 🧹 Organiza melhor os dados\n",
    "Ideal para dados temporais (ano, mês, dia), regionais (estado, cidade) ou categorias.\n",
    "\n",
    "Ajuda na manutenção e gerenciamento do data lake.\n",
    "\n",
    "3. ⚙️ Facilita atualização incremental\n",
    "Se cada partição representa um mês, por exemplo, é possível atualizar apenas aquele mês com overwrite sem afetar os demais.\n",
    "\n",
    "4. 📊 Melhora performance de ferramentas BI\n",
    "Power BI, Metabase, Superset... todas se beneficiam de datasets bem particionados (menos tempo de carregamento e resposta).\n",
    "⚠️ Cuidado: particionar demais também atrapalha\n",
    "Particionar por colunas de alta cardinalidade (como CPF, ID de cliente, ou timestamps completos) cria milhares de pastas, e isso piora a performance.\n",
    "\n",
    "Sempre particione por colunas com baixo número de valores únicos e que você costuma usar em filtros.\n",
    "\n",
    "✅ Resumo visual:\n",
    "Sem particionamento\tCom particionamento por ano, mes\n",
    "Spark lê todos os arquivos\tSpark lê só os arquivos relevantes\n",
    "Consulta lenta\tConsulta rápida\n",
    "Uso excessivo de recursos\tEconomia de CPU e memória\n",
    "Mais difícil de manter\tOrganização mais clara e modular"
   ]
  },
  {
   "cell_type": "markdown",
   "metadata": {
    "application/vnd.databricks.v1+cell": {
     "cellMetadata": {
      "byteLimit": 2048000,
      "rowLimit": 10000
     },
     "inputWidgets": {},
     "nuid": "1c139f25-1752-45b6-aa35-a6fc17d0fa9c",
     "showTitle": false,
     "tableResultSettingsMap": {},
     "title": ""
    }
   },
   "source": [
    "🧠 O que é o Z-Ordering?\n",
    "É um tipo especial de ordenação multidimensional dos dados dentro de cada partição Delta. Ele reorganiza os arquivos internamente, colocando juntos os registros que compartilham valores semelhantes nas colunas mais consultadas.\n",
    "\n",
    "É inspirado no Z-order curve, uma técnica de indexação espacial que melhora a localidade dos dados em disco.\n",
    "\n",
    " Exemplo prático (sem Z-ordering):\n",
    "Você tem uma tabela com milhões de linhas e faz consultas com filtros assim:\n",
    "\n",
    "SELECT * FROM vendas WHERE cidade = 'São Paulo'\n",
    "\n",
    "Se os dados estão desordenados, o Spark precisa ler muitos arquivos, mesmo que apenas alguns contenham 'São Paulo'.\n",
    "\n",
    "✅ Exemplo com Z-Ordering:\n",
    "Se você aplica:\n",
    "OPTIMIZE minha_tabela ZORDER BY (cidade)\n",
    "\n",
    "O Delta Lake reorganiza os dados internamente, agrupando os registros de 'São Paulo' nos mesmos arquivos ou blocos.\n",
    "\n",
    "A próxima vez que você rodar o SELECT, o Spark lerá menos arquivos, reduzindo o tempo e custo da consulta.\n",
    "\n",
    "🧪 Quando usar Z-Ordering?\n",
    "A tabela já tem particionamento por colunas como ano, mes, e você quer melhorar o desempenho de filtros por colunas não particionadas (ex: cidade, produto_id, cliente_id).\n",
    "\n",
    "Você faz muitas leituras com filtros em uma ou mais colunas específicas.\n",
    "\n",
    "A tabela tem grande volume de dados e você quer otimizar leitura sem alterar a partição física.\n",
    "\n",
    "📌 Sintaxe no Databricks:\n",
    "\n",
    "OPTIMIZE minha_tabela\n",
    "ZORDER BY (coluna1, coluna2)\n",
    "\n",
    "Ou em PySpark:\n",
    "spark.sql(\"\"\"\n",
    "  OPTIMIZE pipe1.silver.slv_despesas_lcb_contemporaneo\n",
    "  ZORDER BY (condominio, tipo_despesa)\n",
    "\"\"\")\n",
    "\n",
    "⚠️ Observações:\n",
    "Item\tZ-Ordering\n",
    "Nível de atuação\tDentro de arquivos/parquet\n",
    "Altera a partição física\t❌ Não\n",
    "Aumenta o custo de escrita\t✅ Sim (reordena arquivos)\n",
    "Melhora leitura\t✅ Muito, quando bem usado\n",
    "\n",
    "✅ Conclusão:\n",
    "Z-Ordering = reorganização interna dos dados em Delta Lake para tornar consultas filtradas mais rápidas.\n",
    "\n",
    "Use quando:\n",
    "\n",
    "Você tem filtros repetitivos por coluna(s).\n",
    "\n",
    "Sua tabela já está estabilizada e você quer otimizar leitura."
   ]
  },
  {
   "cell_type": "code",
   "execution_count": 0,
   "metadata": {
    "application/vnd.databricks.v1+cell": {
     "cellMetadata": {
      "byteLimit": 2048000,
      "rowLimit": 10000
     },
     "inputWidgets": {},
     "nuid": "6abd9731-702d-418e-80d3-3e66a146100c",
     "showTitle": false,
     "tableResultSettingsMap": {},
     "title": ""
    }
   },
   "outputs": [],
   "source": [
    "from pyspark.sql.functions import col, date_format, round, year, month, to_timestamp, to_date, substring\n",
    "\n",
    "# 1. Ler tabela Bronze\n",
    "df_bronze = spark.table(\"pipe1.bronze.brz_despesas_lcb_contemporaneo\")\n",
    "\n",
    "# 2. Remover a coluna _line\n",
    "df = df_bronze.drop(\"_line\")\n",
    "\n",
    "# 3. Transformar _fivetran_synced para string com timestamp formatado\n",
    "df = df.withColumn(\"_fivetran_synced\", date_format(col(\"_fivetran_synced\"), \"yyyy-MM-dd'T'HH:mm:ss\"))\n",
    "\n",
    "# 4. Garantir que 'periodo' esteja no formato string \"yyyy-MM\"\n",
    "# (caso venha como date ou timestamp, usamos date_format)\n",
    "df = df.withColumn(\"periodo\", date_format(col(\"periodo\"), \"yyyy-MM\"))\n",
    "\n",
    "# 5. Arredondar colunas numéricas\n",
    "df = df.withColumn(\"kwh_dia\", round(col(\"kwh_dia\"), 2))\n",
    "df = df.withColumn(\"total_agua\", round(col(\"total_agua\"), 2))\n",
    "\n",
    "# 6. Substituir valores nulos por 0\n",
    "df = df.fillna(0)\n",
    "\n",
    "# 7. Criar colunas de partição ano e mês extraídas da string 'periodo'\n",
    "df = df.withColumn(\"ano\", substring(col(\"periodo\"), 1, 4).cast(\"int\")) \\\n",
    "       .withColumn(\"mes\", substring(col(\"periodo\"), 6, 2).cast(\"int\"))\n",
    "\n",
    "# 8. Salvar como Delta particionado por ano e mês\n",
    "df.write.format(\"delta\") \\\n",
    "    .mode(\"overwrite\") \\\n",
    "    .partitionBy(\"ano\", \"mes\") \\\n",
    "    .saveAsTable(\"pipe1.silver.slv_despesas_lcb_contemporaneo\")\n"
   ]
  },
  {
   "cell_type": "code",
   "execution_count": 0,
   "metadata": {
    "application/vnd.databricks.v1+cell": {
     "cellMetadata": {
      "byteLimit": 2048000,
      "rowLimit": 10000
     },
     "inputWidgets": {},
     "nuid": "5f4bee1c-8986-449b-866f-b234189d639f",
     "showTitle": false,
     "tableResultSettingsMap": {},
     "title": ""
    }
   },
   "outputs": [],
   "source": [
    "# dropar a tabela\n",
    "#spark.sql(\"DROP TABLE IF EXISTS pipe1.silver.slv_despesas_lcb_contemporaneo\")\n",
    "\n"
   ]
  },
  {
   "cell_type": "code",
   "execution_count": 0,
   "metadata": {
    "application/vnd.databricks.v1+cell": {
     "cellMetadata": {
      "byteLimit": 2048000,
      "rowLimit": 10000
     },
     "inputWidgets": {},
     "nuid": "63f8393c-b079-41de-809b-8d44800f66fd",
     "showTitle": false,
     "tableResultSettingsMap": {},
     "title": ""
    }
   },
   "outputs": [],
   "source": [
    "df_silver = spark.table(\"pipe1.silver.slv_despesas_lcb_contemporaneo\")\n",
    "display(df_silver)"
   ]
  },
  {
   "cell_type": "markdown",
   "metadata": {
    "application/vnd.databricks.v1+cell": {
     "cellMetadata": {
      "byteLimit": 2048000,
      "rowLimit": 10000
     },
     "inputWidgets": {},
     "nuid": "03c42b63-d60a-4210-a229-803349292777",
     "showTitle": false,
     "tableResultSettingsMap": {},
     "title": ""
    }
   },
   "source": [
    "# Tratamento de dados da Timbauvas"
   ]
  },
  {
   "cell_type": "code",
   "execution_count": 0,
   "metadata": {
    "application/vnd.databricks.v1+cell": {
     "cellMetadata": {
      "byteLimit": 2048000,
      "implicitDf": true,
      "rowLimit": 10000
     },
     "inputWidgets": {},
     "nuid": "a9948cd4-1f23-4a5c-8896-cd67a594e487",
     "showTitle": false,
     "tableResultSettingsMap": {},
     "title": ""
    }
   },
   "outputs": [],
   "source": [
    "%sql\n",
    "select * from workspace.google_drive.dados_despesas_home_despesa_timbauvas"
   ]
  },
  {
   "cell_type": "code",
   "execution_count": 0,
   "metadata": {
    "application/vnd.databricks.v1+cell": {
     "cellMetadata": {
      "byteLimit": 2048000,
      "rowLimit": 10000
     },
     "inputWidgets": {},
     "nuid": "65ec8f91-05a5-444d-a51e-b4f9e80f8fed",
     "showTitle": false,
     "tableResultSettingsMap": {},
     "title": ""
    }
   },
   "outputs": [],
   "source": [
    "from pyspark.sql.functions import col, to_date, to_timestamp, date_format, round, substring\n",
    "from pyspark.sql.types import DoubleType\n",
    "\n",
    "# 1. Carregar dados da camada Bronze\n",
    "df = spark.table(\"pipe1.bronze.brz_despesas_timbauvas\")\n",
    "\n",
    "# 2. Remover a coluna _line\n",
    "df = df.drop(\"_line\")\n",
    "\n",
    "# 3. Transformar _fivetran_synced para yyyy-MM-dd e timestamp formatado\n",
    "df = df.withColumn(\"_fivetran_synced\", date_format(col(\"_fivetran_synced\"), \"yyyy-MM-dd'T'HH:mm:ss\"))\n",
    "\n",
    "# 4. Alterar a coluna 'periodo' para string no formato ano-mês (\"yyyy-MM\")\n",
    "df = df.withColumn(\"periodo\", date_format(to_timestamp(col(\"periodo\")), \"yyyy-MM\"))\n",
    "\n",
    "# 5. Arredondar kwh_dia para 2 casas decimais\n",
    "df = df.withColumn(\"kwh_dia\", round(col(\"kwh_dia\"), 2))\n",
    "\n",
    "# 6. Converter despesa_de_luz para número com 2 casas decimais\n",
    "df = df.withColumn(\"despesa_de_luz\", round(col(\"despesa_de_luz\").cast(DoubleType()), 2))\n",
    "\n",
    "# 7. Substituir todos os valores nulos por 0\n",
    "df = df.fillna(0)\n",
    "\n",
    "# 8. Arredondar consumo_kg para 2 casas decimais\n",
    "df = df.withColumn(\"consumo_de_agua\", round(col(\"consumo_de_agua\"), 2))\n",
    "\n",
    "# 9. Arredondar total_agua para 2 casas decimais\n",
    "df = df.withColumn(\"total_agua\", round(col(\"total_agua\"), 2))\n",
    "\n",
    "# 10. Criar colunas 'ano' e 'mes' extraídas da string 'periodo'\n",
    "df = df.withColumn(\"ano\", substring(col(\"periodo\"), 1, 4).cast(\"int\")) \\\n",
    "       .withColumn(\"mes\", substring(col(\"periodo\"), 6, 2).cast(\"int\"))\n",
    "\n",
    "# 11. Gravar na camada Silver particionado por ano e mês\n",
    "df.write.format(\"delta\") \\\n",
    "    .mode(\"overwrite\") \\\n",
    "    .partitionBy(\"ano\", \"mes\") \\\n",
    "    .saveAsTable(\"pipe1.silver.slv_despesas_timbauvas\")\n"
   ]
  },
  {
   "cell_type": "code",
   "execution_count": 0,
   "metadata": {
    "application/vnd.databricks.v1+cell": {
     "cellMetadata": {
      "byteLimit": 2048000,
      "rowLimit": 10000
     },
     "inputWidgets": {},
     "nuid": "c3076be8-42d3-4d39-b18b-35fd0af231ef",
     "showTitle": false,
     "tableResultSettingsMap": {},
     "title": ""
    }
   },
   "outputs": [],
   "source": [
    "df_silver = spark.table(\"pipe1.silver.slv_despesas_timbauvas\")\n",
    "display(df_silver)"
   ]
  },
  {
   "cell_type": "code",
   "execution_count": 0,
   "metadata": {
    "application/vnd.databricks.v1+cell": {
     "cellMetadata": {
      "byteLimit": 2048000,
      "rowLimit": 10000
     },
     "inputWidgets": {},
     "nuid": "13deb7c9-ef0d-4a49-8d05-bdf04c45330c",
     "showTitle": false,
     "tableResultSettingsMap": {},
     "title": ""
    }
   },
   "outputs": [],
   "source": [
    "# dropar a tabela\n",
    "#spark.sql(\"DROP TABLE IF EXISTS pipe1.silver.slv_despesas_timbauvas\")"
   ]
  }
 ],
 "metadata": {
  "application/vnd.databricks.v1+notebook": {
   "computePreferences": null,
   "dashboards": [],
   "environmentMetadata": {
    "base_environment": "",
    "environment_version": "2"
   },
   "inputWidgetPreferences": null,
   "language": "python",
   "notebookMetadata": {
    "mostRecentlyExecutedCommandWithImplicitDF": {
     "commandId": 5930585342559401,
     "dataframes": [
      "_sqldf"
     ]
    },
    "pythonIndentUnit": 4
   },
   "notebookName": "Camada Silver 2. Tratar dados",
   "widgets": {}
  },
  "language_info": {
   "name": "python"
  }
 },
 "nbformat": 4,
 "nbformat_minor": 0
}
