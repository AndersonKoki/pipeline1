{
 "cells": [
  {
   "cell_type": "markdown",
   "metadata": {
    "application/vnd.databricks.v1+cell": {
     "cellMetadata": {},
     "inputWidgets": {},
     "nuid": "c804efcd-ab48-413b-a1ae-13d88a814eeb",
     "showTitle": false,
     "tableResultSettingsMap": {},
     "title": ""
    }
   },
   "source": [
    "# **Camada Silver (Cleaned / Refined Layer)**\n",
    "\n",
    "Dados já limpos, validados e com estruturação melhorada.\n",
    "\n",
    "Normalmente inclui tratamento de erros, remoção de duplicatas e padronização.\n",
    "\n",
    "Serve para análises intermediárias e alimentação de modelos."
   ]
  },
  {
   "cell_type": "code",
   "execution_count": 0,
   "metadata": {
    "application/vnd.databricks.v1+cell": {
     "cellMetadata": {
      "byteLimit": 2048000,
      "implicitDf": true,
      "rowLimit": 10000
     },
     "inputWidgets": {},
     "nuid": "a48bd786-46bc-4e70-b4f0-cd45d4ad30ca",
     "showTitle": false,
     "tableResultSettingsMap": {},
     "title": ""
    }
   },
   "outputs": [],
   "source": [
    "%sql\n",
    "SELECT current_catalog();"
   ]
  },
  {
   "cell_type": "code",
   "execution_count": 0,
   "metadata": {
    "application/vnd.databricks.v1+cell": {
     "cellMetadata": {
      "byteLimit": 2048000,
      "rowLimit": 10000
     },
     "inputWidgets": {},
     "nuid": "c3eb8d25-26c0-4035-b1cf-fa85f6b9bf57",
     "showTitle": false,
     "tableResultSettingsMap": {},
     "title": ""
    }
   },
   "outputs": [],
   "source": [
    "spark.sql(\"USE CATALOG pipe1\")"
   ]
  },
  {
   "cell_type": "markdown",
   "metadata": {
    "application/vnd.databricks.v1+cell": {
     "cellMetadata": {},
     "inputWidgets": {},
     "nuid": "151400cb-c790-4713-acff-32e1c6db409e",
     "showTitle": false,
     "tableResultSettingsMap": {},
     "title": ""
    }
   },
   "source": [
    "# Tratamento de dados da LCB"
   ]
  },
  {
   "cell_type": "code",
   "execution_count": 0,
   "metadata": {
    "application/vnd.databricks.v1+cell": {
     "cellMetadata": {
      "byteLimit": 2048000,
      "rowLimit": 10000
     },
     "inputWidgets": {},
     "nuid": "6d0de985-f8d0-4d6c-ae7c-157ed027bad9",
     "showTitle": false,
     "tableResultSettingsMap": {},
     "title": ""
    }
   },
   "outputs": [],
   "source": [
    "from pyspark.sql.functions import col, date_format, round\n",
    "\n",
    "# Ler tabela Bronze\n",
    "df_bronze = spark.table(\"pipe1.bronze.brz_despesas_lcb_contemporaneo\")\n",
    "\n",
    "# 1. Remover a coluna _line\n",
    "df = df_bronze.drop(\"_line\")\n",
    "\n",
    "# 3. Transformar _fivetran_synced para yyyy-MM-dd e timestamp (mantendo a coluna original, opcional)\n",
    "df = df.withColumn(\"_fivetran_synced\", date_format(col(\"_fivetran_synced\"), \"yyyy-MM-dd'T'HH:mm:ss\"))\n",
    "\n",
    "# 3. Converter 'periodo' para string ano-mês\n",
    "df = df.withColumn(\"periodo\", date_format(col(\"periodo\"), \"yyyy-MM\"))\n",
    "\n",
    "# 4. Arredondar kwh_dia para 2 casas decimais\n",
    "df = df.withColumn(\"kwh_dia\", round(col(\"kwh_dia\"), 2))\n",
    "\n",
    "# 5. Arredondar total_agua para 2 casas decimais\n",
    "df = df.withColumn(\"total_agua\", round(col(\"total_agua\"), 2))\n",
    "\n",
    "# 6. Substituir todos os valores nulos por 0\n",
    "df = df.fillna(0)\n",
    "\n",
    "# 7. Salvar na camada Silver\n",
    "df.write.format(\"delta\").mode(\"overwrite\").saveAsTable(\"pipe1.silver.slv_despesas_lcb_contemporaneo\")\n",
    "\n",
    "\n",
    "\n",
    "\n"
   ]
  },
  {
   "cell_type": "code",
   "execution_count": 0,
   "metadata": {
    "application/vnd.databricks.v1+cell": {
     "cellMetadata": {
      "byteLimit": 2048000,
      "rowLimit": 10000
     },
     "inputWidgets": {},
     "nuid": "5f4bee1c-8986-449b-866f-b234189d639f",
     "showTitle": false,
     "tableResultSettingsMap": {},
     "title": ""
    }
   },
   "outputs": [],
   "source": [
    "# dropar a tabela\n",
    "#spark.sql(\"DROP TABLE IF EXISTS pipe1.silver.despesas_lcb_contemporaneo\")\n",
    "\n"
   ]
  },
  {
   "cell_type": "code",
   "execution_count": 0,
   "metadata": {
    "application/vnd.databricks.v1+cell": {
     "cellMetadata": {
      "byteLimit": 2048000,
      "rowLimit": 10000
     },
     "inputWidgets": {},
     "nuid": "63f8393c-b079-41de-809b-8d44800f66fd",
     "showTitle": false,
     "tableResultSettingsMap": {},
     "title": ""
    }
   },
   "outputs": [],
   "source": [
    "df_silver = spark.table(\"pipe1.silver.slv_despesas_lcb_contemporaneo\")\n",
    "display(df_silver)"
   ]
  },
  {
   "cell_type": "markdown",
   "metadata": {
    "application/vnd.databricks.v1+cell": {
     "cellMetadata": {},
     "inputWidgets": {},
     "nuid": "03c42b63-d60a-4210-a229-803349292777",
     "showTitle": false,
     "tableResultSettingsMap": {},
     "title": ""
    }
   },
   "source": [
    "# Tratamento de dados da Timbauvas"
   ]
  },
  {
   "cell_type": "code",
   "execution_count": 0,
   "metadata": {
    "application/vnd.databricks.v1+cell": {
     "cellMetadata": {
      "byteLimit": 2048000,
      "implicitDf": true,
      "rowLimit": 10000
     },
     "inputWidgets": {},
     "nuid": "a9948cd4-1f23-4a5c-8896-cd67a594e487",
     "showTitle": false,
     "tableResultSettingsMap": {},
     "title": ""
    }
   },
   "outputs": [],
   "source": [
    "%sql\n",
    "select * from workspace.google_drive.dados_despesas_home_despesa_timbauvas"
   ]
  },
  {
   "cell_type": "code",
   "execution_count": 0,
   "metadata": {
    "application/vnd.databricks.v1+cell": {
     "cellMetadata": {
      "byteLimit": 2048000,
      "rowLimit": 10000
     },
     "inputWidgets": {},
     "nuid": "65ec8f91-05a5-444d-a51e-b4f9e80f8fed",
     "showTitle": false,
     "tableResultSettingsMap": {},
     "title": ""
    }
   },
   "outputs": [],
   "source": [
    "from pyspark.sql.functions import col, to_date, to_timestamp, date_format, round, coalesce, lit,  date_format\n",
    "from pyspark.sql.types import DoubleType\n",
    "\n",
    "# 1. Carregar dados da camada Bronze\n",
    "df = spark.table(\"pipe1.bronze.brz_despesas_timbauvas\")\n",
    "\n",
    "# 2. Remover a coluna _line\n",
    "df = df.drop(\"_line\")\n",
    "\n",
    "# 3. Transformar _fivetran_synced para yyyy-MM-dd e timestamp (mantendo a coluna original, opcional)\n",
    "df = df.withColumn(\"_fivetran_synced\", date_format(col(\"_fivetran_synced\"), \"yyyy-MM-dd'T'HH:mm:ss\"))\n",
    "\n",
    "# 4. Alterar a coluna 'periodo' para ano-mês (string)\n",
    "df = df.withColumn(\"periodo\", date_format(to_timestamp(col(\"periodo\")), \"yyyy-MM\"))\n",
    "\n",
    "# 5. Arredondar kwh_dia para 2 casas decimais\n",
    "df = df.withColumn(\"kwh_dia\", round(col(\"kwh_dia\"), 2))\n",
    "\n",
    "# 6. Converter despesa_de_luz para número e 2 casas decimais\n",
    "df = df.withColumn(\"despesa_de_luz\", round(col(\"despesa_de_luz\").cast(DoubleType()), 2))\n",
    "\n",
    "# 7. Substituir todos os valores nulos por 0\n",
    "df = df.fillna(0)\n",
    "\n",
    "# 8. Arredondar consumo_kg para 2 casas decimais\n",
    "df = df.withColumn(\"consumo_kg\", round(col(\"consumo_kg\"), 2))\n",
    "\n",
    "# 9. Arredondar total_agua para 2 casas decimais\n",
    "df = df.withColumn(\"total_agua\", round(col(\"total_agua\"), 2))\n",
    "\n",
    "# 10. Gravar na camada Silver\n",
    "df.write.format(\"delta\").mode(\"overwrite\").saveAsTable(\"pipe1.silver.slv_despesas_timbauvas\")\n"
   ]
  },
  {
   "cell_type": "code",
   "execution_count": 0,
   "metadata": {
    "application/vnd.databricks.v1+cell": {
     "cellMetadata": {
      "byteLimit": 2048000,
      "rowLimit": 10000
     },
     "inputWidgets": {},
     "nuid": "c3076be8-42d3-4d39-b18b-35fd0af231ef",
     "showTitle": false,
     "tableResultSettingsMap": {},
     "title": ""
    }
   },
   "outputs": [],
   "source": [
    "df_silver = spark.table(\"pipe1.silver.slv_despesas_timbauvas\")\n",
    "display(df_silver)"
   ]
  },
  {
   "cell_type": "code",
   "execution_count": 0,
   "metadata": {
    "application/vnd.databricks.v1+cell": {
     "cellMetadata": {
      "byteLimit": 2048000,
      "rowLimit": 10000
     },
     "inputWidgets": {},
     "nuid": "13deb7c9-ef0d-4a49-8d05-bdf04c45330c",
     "showTitle": false,
     "tableResultSettingsMap": {},
     "title": ""
    }
   },
   "outputs": [],
   "source": [
    "# dropar a tabela\n",
    "# spark.sql(\"DROP TABLE IF EXISTS pipe1.silver.slv_despesas_timbauvas\")"
   ]
  }
 ],
 "metadata": {
  "application/vnd.databricks.v1+notebook": {
   "computePreferences": null,
   "dashboards": [],
   "environmentMetadata": {
    "base_environment": "",
    "environment_version": "2"
   },
   "inputWidgetPreferences": null,
   "language": "python",
   "notebookMetadata": {
    "mostRecentlyExecutedCommandWithImplicitDF": {
     "commandId": 5930585342559401,
     "dataframes": [
      "_sqldf"
     ]
    },
    "pythonIndentUnit": 4
   },
   "notebookName": "Camada Silver 2. Tratar dados",
   "widgets": {}
  },
  "language_info": {
   "name": "python"
  }
 },
 "nbformat": 4,
 "nbformat_minor": 0
}
